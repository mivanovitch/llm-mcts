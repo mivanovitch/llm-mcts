{
 "cells": [
  {
   "cell_type": "code",
   "execution_count": 12,
   "metadata": {},
   "outputs": [],
   "source": [
    "from concurrent.futures import ThreadPoolExecutor\n",
    "from human_eval.execution import check_correctness\n",
    "from human_eval.data import HUMAN_EVAL, stream_jsonl"
   ]
  },
  {
   "cell_type": "code",
   "execution_count": 13,
   "metadata": {},
   "outputs": [],
   "source": [
    "problems = list(stream_jsonl(HUMAN_EVAL))\n",
    "executor = ThreadPoolExecutor(max_workers=5)"
   ]
  },
  {
   "cell_type": "code",
   "execution_count": 62,
   "metadata": {},
   "outputs": [
    {
     "name": "stdout",
     "output_type": "stream",
     "text": [
      "\n",
      "\n",
      "\n",
      "def sum_squares(lst):\n",
      "    \"\"\"\"\n",
      "    This function will take a list of integers. For all entries in the list, the function shall square the integer entry if its index is a \n",
      "    multiple of 3 and will cube the integer entry if its index is a multiple of 4 and not a multiple of 3. The function will not \n",
      "    change the entries in the list whose indexes are not a multiple of 3 or 4. The function shall then return the sum of all entries. \n",
      "    \n",
      "    Examples:\n",
      "    For lst = [1,2,3] the output should be 6\n",
      "    For lst = []  the output should be 0\n",
      "    For lst = [-1,-5,2,-1,-5]  the output should be -126\n",
      "    \"\"\"\n",
      "\n"
     ]
    }
   ],
   "source": [
    "idx = 142\n",
    "problem = problems[idx]\n",
    "timeout = 10\n",
    "print(problem['prompt'])\n"
   ]
  },
  {
   "cell_type": "code",
   "execution_count": 63,
   "metadata": {},
   "outputs": [
    {
     "name": "stdout",
     "output_type": "stream",
     "text": [
      "    result =[]\n",
      "    for i in range(len(lst)):\n",
      "        if i %3 == 0:\n",
      "            result.append(lst[i]**2)\n",
      "        elif i % 4 == 0 and i%3 != 0:\n",
      "            result.append(lst[i]**3)\n",
      "        else:\n",
      "            result.append(lst[i])\n",
      "    return sum(result)\n",
      "\n",
      "def check(candidate):\n",
      "\n",
      "    # Check some simple cases\n",
      "    \n",
      "    assert candidate([1,2,3]) == 6\n",
      "    assert candidate([1,4,9]) == 14\n",
      "    assert candidate([]) == 0\n",
      "    assert candidate([1,1,1,1,1,1,1,1,1]) == 9\n",
      "    assert candidate([-1,-1,-1,-1,-1,-1,-1,-1,-1]) == -3\n",
      "    assert candidate([0]) == 0\n",
      "    assert candidate([-1,-5,2,-1,-5]) == -126\n",
      "    assert candidate([-56,-99,1,0,-2]) == 3030\n",
      "    assert candidate([-1,0,0,0,0,0,0,0,-1]) == 0\n",
      "    assert candidate([-16, -9, -2, 36, 36, 26, -20, 25, -40, 20, -4, 12, -26, 35, 37]) == -14196\n",
      "    assert candidate([-1, -3, 17, -1, -15, 13, -1, 14, -14, -12, -5, 14, -14, 6, 13, 11, 16, 16, 4, 10]) == -1448\n",
      "    \n",
      "    \n",
      "    # Don't remove this line:\n",
      "\n"
     ]
    }
   ],
   "source": [
    "print(problem['canonical_solution'])\n",
    "print(problem[\"test\"])"
   ]
  },
  {
   "cell_type": "code",
   "execution_count": 64,
   "metadata": {},
   "outputs": [],
   "source": [
    "## TODO: should be returning fraction of test cases passed, instead of 0/1\n",
    "def execute(problem, completion, timeout=10):\n",
    "    result = check_correctness(problem, completion, timeout)\n",
    "    return result\n"
   ]
  },
  {
   "cell_type": "code",
   "execution_count": 59,
   "metadata": {},
   "outputs": [
    {
     "name": "stdout",
     "output_type": "stream",
     "text": [
      "\n",
      "    return [i for i in range(min(a, b), max(a, b)+1) if i % 2 == 0]\n",
      "\n",
      "\n"
     ]
    }
   ],
   "source": [
    "problem = problems[163]\n",
    "completion = \"\\n    return [i for i in range(min(a, b), max(a, b)+1) if i % 2 == 0]\\n\\n\"\n",
    "print(completion)"
   ]
  },
  {
   "cell_type": "code",
   "execution_count": 60,
   "metadata": {},
   "outputs": [
    {
     "data": {
      "text/plain": [
       "{'task_id': 'HumanEval/163',\n",
       " 'passed': False,\n",
       " 'result': 'failed: Test 1',\n",
       " 'completion_id': None}"
      ]
     },
     "execution_count": 60,
     "metadata": {},
     "output_type": "execute_result"
    }
   ],
   "source": [
    "execute(problem, completion, timeout)"
   ]
  },
  {
   "cell_type": "code",
   "execution_count": 41,
   "metadata": {},
   "outputs": [
    {
     "data": {
      "text/plain": [
       "{'task_id': 'HumanEval/127',\n",
       " 'passed': False,\n",
       " 'result': 'failed: ',\n",
       " 'completion_id': None}"
      ]
     },
     "execution_count": 41,
     "metadata": {},
     "output_type": "execute_result"
    }
   ],
   "source": [
    "incorrect_completion = \"    return False\"\n",
    "execute(problem, incorrect_completion, timeout)"
   ]
  },
  {
   "cell_type": "code",
   "execution_count": 65,
   "metadata": {},
   "outputs": [
    {
     "name": "stdout",
     "output_type": "stream",
     "text": [
      "{'task_id': 'HumanEval/32', 'passed': True, 'result': 'passed', 'completion_id': None}\n",
      "{'task_id': 'HumanEval/38', 'passed': True, 'result': 'passed', 'completion_id': None}\n",
      "{'task_id': 'HumanEval/44', 'passed': True, 'result': 'passed', 'completion_id': None}\n",
      "{'task_id': 'HumanEval/50', 'passed': True, 'result': 'passed', 'completion_id': None}\n",
      "{'task_id': 'HumanEval/53', 'passed': True, 'result': 'passed', 'completion_id': None}\n",
      "{'task_id': 'HumanEval/87', 'passed': True, 'result': 'passed', 'completion_id': None}\n",
      "{'task_id': 'HumanEval/113', 'passed': True, 'result': 'passed', 'completion_id': None}\n",
      "{'task_id': 'HumanEval/151', 'passed': True, 'result': 'passed', 'completion_id': None}\n"
     ]
    }
   ],
   "source": [
    "solutions = list(stream_jsonl(\"../few_shot_mcts_skip.jsonl\"))\n",
    "tid_map = {problem[\"task_id\"]: problem for problem in problems}\n",
    "for solution in solutions:\n",
    "    problem = tid_map[solution[\"task_id\"]]\n",
    "    completion = solution[\"completion\"]\n",
    "    result = execute(problem, completion)\n",
    "    print(result)"
   ]
  },
  {
   "cell_type": "code",
   "execution_count": 42,
   "metadata": {},
   "outputs": [],
   "source": [
    "def stats_execute(problem, completion, timeout):\n",
    "    pre_base_str, tests = problem['test'].split('def check(candidate):\\n')\n",
    "    base_str = \"def check(candidate):\\n\"\n",
    "    split_tests = []\n",
    "    for i in tests.split(\"\\n\"):\n",
    "        if (\n",
    "            (i.lstrip() == \"\")\n",
    "            or (i.lstrip().startswith(\"#\"))\n",
    "            or (i.lstrip().startswith(\"print\"))\n",
    "        ):\n",
    "            continue\n",
    "        split_tests.append(pre_base_str + base_str + i)\n",
    "\n",
    "    _problem = problem.copy()\n",
    "    results = []\n",
    "    for i in split_tests:\n",
    "        _problem['test'] = i\n",
    "        future = executor.submit(check_correctness, _problem, completion, timeout)\n",
    "        result = future.result()\n",
    "        results.append(result)\n",
    "    \n",
    "    \n",
    "    return {'task_id': problem['task_id'], 'pass_rate': sum([i['passed'] for i in results])/len(results)}"
   ]
  },
  {
   "cell_type": "code",
   "execution_count": 61,
   "metadata": {},
   "outputs": [
    {
     "data": {
      "text/plain": [
       "{'task_id': 'HumanEval/163', 'pass_rate': 0.2}"
      ]
     },
     "execution_count": 61,
     "metadata": {},
     "output_type": "execute_result"
    }
   ],
   "source": [
    "stats_execute(problem, completion, timeout)"
   ]
  }
 ],
 "metadata": {
  "kernelspec": {
   "display_name": "arun",
   "language": "python",
   "name": "python3"
  },
  "language_info": {
   "codemirror_mode": {
    "name": "ipython",
    "version": 3
   },
   "file_extension": ".py",
   "mimetype": "text/x-python",
   "name": "python",
   "nbconvert_exporter": "python",
   "pygments_lexer": "ipython3",
   "version": "3.10.13"
  }
 },
 "nbformat": 4,
 "nbformat_minor": 2
}
