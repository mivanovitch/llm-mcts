{
 "cells": [
  {
   "cell_type": "code",
   "execution_count": 1,
   "metadata": {},
   "outputs": [],
   "source": [
    "## load all the problems from the verilog-eval dataset\n",
    "\n",
    "from verilog_eval.data import write_jsonl, read_problems, stream_jsonl\n",
    "from tqdm import tqdm\n",
    "import itertools\n",
    "from verilog_eval.data import VERILOG_EVAL_HUMAN, HUMAN_DESCRIPTIONS\n",
    "\n",
    "problems = read_problems(VERILOG_EVAL_HUMAN)\n",
    "descriptions = read_problems(HUMAN_DESCRIPTIONS)\n",
    "# machine_problems = read_problems(\"../ext/verilog-eval/data/VerilogEval_Machine.jsonl\")\n",
    "# machine_descriptions = read_problems(\"../ext/verilog-eval/descriptions/VerilogDescription_Machine.jsonl\")\n",
    "\n",
    "## truncate the problems\n",
    "# problems = itertools.islice(problems.items(), 0, 10)\n",
    "# problems = dict(problems)\n",
    "# descriptions = {k: v for k, v in descriptions.items() if k in problems}\n",
    "# write_jsonl(\"sample_problems.jsonl\", list(problems.values()))\n",
    "\n",
    "problems = list(problems.values())"
   ]
  },
  {
   "cell_type": "code",
   "execution_count": null,
   "metadata": {},
   "outputs": [],
   "source": []
  },
  {
   "cell_type": "code",
   "execution_count": null,
   "metadata": {},
   "outputs": [],
   "source": [
    "problems"
   ]
  },
  {
   "cell_type": "code",
   "execution_count": null,
   "metadata": {},
   "outputs": [],
   "source": [
    "from vgen.interpreter import evaluate_code"
   ]
  },
  {
   "cell_type": "code",
   "execution_count": null,
   "metadata": {},
   "outputs": [],
   "source": [
    "problems"
   ]
  },
  {
   "cell_type": "code",
   "execution_count": null,
   "metadata": {},
   "outputs": [],
   "source": []
  },
  {
   "cell_type": "code",
   "execution_count": null,
   "metadata": {},
   "outputs": [],
   "source": [
    "task_id = \"gatesv\"\n",
    "comp = problems[task_id][\"canonical_solution\"]"
   ]
  },
  {
   "cell_type": "code",
   "execution_count": null,
   "metadata": {},
   "outputs": [],
   "source": [
    "res = evaluate_code(task_id, comp, problems)"
   ]
  },
  {
   "cell_type": "code",
   "execution_count": null,
   "metadata": {},
   "outputs": [],
   "source": [
    "res"
   ]
  },
  {
   "cell_type": "code",
   "execution_count": 3,
   "metadata": {},
   "outputs": [],
   "source": [
    "import outlines"
   ]
  },
  {
   "cell_type": "code",
   "execution_count": 10,
   "metadata": {},
   "outputs": [],
   "source": [
    "STOP_SEQUENCES = [\"```\"]\n",
    "\n",
    "def split_problem_tests(problem):\n",
    "    pre_base_str, tests = problem[\"test\"].split(\"def check(candidate):\\n\")\n",
    "    base_str = \"def check(candidate):\\n\"\n",
    "    split_tests = []\n",
    "    # NOTE: assumes human-eval-specific logic for multiline asserts & for-loops\n",
    "    # won't work properly if multiline assert nested within for-loop\n",
    "    multiline_assert, parts = False, []\n",
    "    for_loop, fl_parts = False, []\n",
    "    for i in tests.split(\"\\n\"):\n",
    "        if multiline_assert:\n",
    "            parts.append(i)\n",
    "            if i.lstrip().startswith(\"]\"):\n",
    "                test = \"\\n\".join(parts)\n",
    "                split_tests.append(pre_base_str + base_str + test)\n",
    "                multiline_assert = False\n",
    "        elif i.lstrip().startswith(\"assert\") and i.lstrip()[-1] == \"[\":\n",
    "            multiline_assert = True\n",
    "            parts = [i]\n",
    "        elif for_loop:\n",
    "            fl_parts.append(i)\n",
    "            if i.lstrip().startswith(\"assert\"):\n",
    "                test = \"\\n\".join(fl_parts)\n",
    "                split_tests.append(pre_base_str + base_str + test)\n",
    "                for_loop, fl_parts = False, []\n",
    "        elif (\n",
    "            (i.lstrip() == \"\")\n",
    "            or (i.lstrip().startswith(\"#\"))\n",
    "            or (i.lstrip().startswith(\"print\"))\n",
    "        ):\n",
    "            continue\n",
    "        elif not (i.lstrip().startswith(\"assert\")):\n",
    "            fl_parts.append(i)\n",
    "            if i.lstrip().startswith(\"for\"):\n",
    "                for_loop = True\n",
    "        # special logic for HumanEval/151\n",
    "        elif problem[\"task_id\"] == \"HumanEval/151\" and (\n",
    "            i.lstrip().startswith(\"assert candidate(lst)\")\n",
    "        ):\n",
    "            fl_parts.append(i)\n",
    "            test = \"\\n\".join(fl_parts)\n",
    "            split_tests.append(pre_base_str + base_str + test)\n",
    "            fl_parts = []\n",
    "        else:\n",
    "            split_tests.append(pre_base_str + base_str + i)\n",
    "    return split_tests\n",
    "\n",
    "\n",
    "# task_id_problem_map = {problem[\"task_id\"]: problem for problem in problems}\n",
    "# task_id_split_tests_map = {\n",
    "    # problem[\"task_id\"]: split_problem_tests(problem) for problem in problems\n",
    "# }\n",
    "\n",
    "\n",
    "def stats_execute(task_id, completion, timeout=10):\n",
    "    problem = task_id_problem_map[task_id]\n",
    "    split_tests = task_id_split_tests_map[task_id]\n",
    "    thread_problems = [{**problem, \"test\": test} for test in split_tests]\n",
    "    results = []\n",
    "    with ThreadPoolExecutor() as executor:\n",
    "        for result in executor.map(\n",
    "            lambda tp: check_correctness(tp, completion, timeout), thread_problems\n",
    "        ):\n",
    "            results.append(result[\"passed\"])\n",
    "\n",
    "    return {\n",
    "        \"task_id\": task_id,\n",
    "        \"pass_rate\": sum(results) / len(results),\n",
    "    }\n",
    "\n",
    "\n",
    "@outlines.prompt\n",
    "def few_shot_prompt(instructions, examples, description, question):\n",
    "    \"\"\"{{ instructions }}\n",
    "\n",
    "    {% for example in examples %}\n",
    "    Description:\n",
    "    ```\n",
    "    {{ example.description }}\n",
    "    ```\n",
    "    Question:\n",
    "    ```\n",
    "    {{ example.prompt }}\n",
    "    ```\n",
    "    Answer:\n",
    "    ```\n",
    "    {{ example.canonical_solution }}\n",
    "    ```\n",
    "    {% endfor %}\n",
    "\n",
    "    Description:\n",
    "    ```\n",
    "    {{ description }}\n",
    "    ```\n",
    "    Question:\n",
    "    ```\n",
    "    {{ question }}\n",
    "    ```\n",
    "    Answer:\n",
    "    ```\n",
    "    \"\"\"\n",
    "\n",
    "\n",
    "instructions = \"Please answer the following question following the examples. Generate valid verilog code always.\"\n",
    "examples = problems[:2]\n",
    "\n",
    "\n",
    "def get_prompts_with_ids():\n",
    "    prompts_with_ids = [\n",
    "        (few_shot_prompt(instructions, examples, descriptions[problem[\"task_id\"]]['detail_description'], problem[\"prompt\"]), problem[\"task_id\"])\n",
    "        for problem in problems[2:]\n",
    "    ]\n",
    "    return prompts_with_ids\n"
   ]
  },
  {
   "cell_type": "code",
   "execution_count": 11,
   "metadata": {},
   "outputs": [],
   "source": [
    "# problems\n",
    "# descriptions"
   ]
  },
  {
   "cell_type": "code",
   "execution_count": 12,
   "metadata": {},
   "outputs": [
    {
     "ename": "UndefinedError",
     "evalue": "'dict object' has no attribute 'description'",
     "output_type": "error",
     "traceback": [
      "\u001b[0;31m---------------------------------------------------------------------------\u001b[0m",
      "\u001b[0;31mUndefinedError\u001b[0m                            Traceback (most recent call last)",
      "Cell \u001b[0;32mIn[12], line 1\u001b[0m\n\u001b[0;32m----> 1\u001b[0m \u001b[43mget_prompts_with_ids\u001b[49m\u001b[43m(\u001b[49m\u001b[43m)\u001b[49m\n",
      "Cell \u001b[0;32mIn[10], line 110\u001b[0m, in \u001b[0;36mget_prompts_with_ids\u001b[0;34m()\u001b[0m\n\u001b[1;32m    109\u001b[0m \u001b[38;5;28;01mdef\u001b[39;00m \u001b[38;5;21mget_prompts_with_ids\u001b[39m():\n\u001b[0;32m--> 110\u001b[0m     prompts_with_ids \u001b[38;5;241m=\u001b[39m [\n\u001b[1;32m    111\u001b[0m         (few_shot_prompt(instructions, examples, descriptions[problem[\u001b[38;5;124m\"\u001b[39m\u001b[38;5;124mtask_id\u001b[39m\u001b[38;5;124m\"\u001b[39m]][\u001b[38;5;124m'\u001b[39m\u001b[38;5;124mdetail_description\u001b[39m\u001b[38;5;124m'\u001b[39m], problem[\u001b[38;5;124m\"\u001b[39m\u001b[38;5;124mprompt\u001b[39m\u001b[38;5;124m\"\u001b[39m]), problem[\u001b[38;5;124m\"\u001b[39m\u001b[38;5;124mtask_id\u001b[39m\u001b[38;5;124m\"\u001b[39m])\n\u001b[1;32m    112\u001b[0m         \u001b[38;5;28;01mfor\u001b[39;00m problem \u001b[38;5;129;01min\u001b[39;00m problems[\u001b[38;5;241m2\u001b[39m:]\n\u001b[1;32m    113\u001b[0m     ]\n\u001b[1;32m    114\u001b[0m     \u001b[38;5;28;01mreturn\u001b[39;00m prompts_with_ids\n",
      "Cell \u001b[0;32mIn[10], line 111\u001b[0m, in \u001b[0;36m<listcomp>\u001b[0;34m(.0)\u001b[0m\n\u001b[1;32m    109\u001b[0m \u001b[38;5;28;01mdef\u001b[39;00m \u001b[38;5;21mget_prompts_with_ids\u001b[39m():\n\u001b[1;32m    110\u001b[0m     prompts_with_ids \u001b[38;5;241m=\u001b[39m [\n\u001b[0;32m--> 111\u001b[0m         (\u001b[43mfew_shot_prompt\u001b[49m\u001b[43m(\u001b[49m\u001b[43minstructions\u001b[49m\u001b[43m,\u001b[49m\u001b[43m \u001b[49m\u001b[43mexamples\u001b[49m\u001b[43m,\u001b[49m\u001b[43m \u001b[49m\u001b[43mdescriptions\u001b[49m\u001b[43m[\u001b[49m\u001b[43mproblem\u001b[49m\u001b[43m[\u001b[49m\u001b[38;5;124;43m\"\u001b[39;49m\u001b[38;5;124;43mtask_id\u001b[39;49m\u001b[38;5;124;43m\"\u001b[39;49m\u001b[43m]\u001b[49m\u001b[43m]\u001b[49m\u001b[43m[\u001b[49m\u001b[38;5;124;43m'\u001b[39;49m\u001b[38;5;124;43mdetail_description\u001b[39;49m\u001b[38;5;124;43m'\u001b[39;49m\u001b[43m]\u001b[49m\u001b[43m,\u001b[49m\u001b[43m \u001b[49m\u001b[43mproblem\u001b[49m\u001b[43m[\u001b[49m\u001b[38;5;124;43m\"\u001b[39;49m\u001b[38;5;124;43mprompt\u001b[39;49m\u001b[38;5;124;43m\"\u001b[39;49m\u001b[43m]\u001b[49m\u001b[43m)\u001b[49m, problem[\u001b[38;5;124m\"\u001b[39m\u001b[38;5;124mtask_id\u001b[39m\u001b[38;5;124m\"\u001b[39m])\n\u001b[1;32m    112\u001b[0m         \u001b[38;5;28;01mfor\u001b[39;00m problem \u001b[38;5;129;01min\u001b[39;00m problems[\u001b[38;5;241m2\u001b[39m:]\n\u001b[1;32m    113\u001b[0m     ]\n\u001b[1;32m    114\u001b[0m     \u001b[38;5;28;01mreturn\u001b[39;00m prompts_with_ids\n",
      "File \u001b[0;32m~/miniconda3/envs/vgen/lib/python3.10/site-packages/outlines/text/prompts.py:38\u001b[0m, in \u001b[0;36mPrompt.__call__\u001b[0;34m(self, *args, **kwargs)\u001b[0m\n\u001b[1;32m     36\u001b[0m bound_arguments \u001b[38;5;241m=\u001b[39m \u001b[38;5;28mself\u001b[39m\u001b[38;5;241m.\u001b[39msignature\u001b[38;5;241m.\u001b[39mbind(\u001b[38;5;241m*\u001b[39margs, \u001b[38;5;241m*\u001b[39m\u001b[38;5;241m*\u001b[39mkwargs)\n\u001b[1;32m     37\u001b[0m bound_arguments\u001b[38;5;241m.\u001b[39mapply_defaults()\n\u001b[0;32m---> 38\u001b[0m \u001b[38;5;28;01mreturn\u001b[39;00m \u001b[43mrender\u001b[49m\u001b[43m(\u001b[49m\u001b[38;5;28;43mself\u001b[39;49m\u001b[38;5;241;43m.\u001b[39;49m\u001b[43mtemplate\u001b[49m\u001b[43m,\u001b[49m\u001b[43m \u001b[49m\u001b[38;5;241;43m*\u001b[39;49m\u001b[38;5;241;43m*\u001b[39;49m\u001b[43mbound_arguments\u001b[49m\u001b[38;5;241;43m.\u001b[39;49m\u001b[43marguments\u001b[49m\u001b[43m)\u001b[49m\n",
      "File \u001b[0;32m~/miniconda3/envs/vgen/lib/python3.10/site-packages/outlines/text/prompts.py:213\u001b[0m, in \u001b[0;36mrender\u001b[0;34m(template, **values)\u001b[0m\n\u001b[1;32m    209\u001b[0m env\u001b[38;5;241m.\u001b[39mfilters[\u001b[38;5;124m\"\u001b[39m\u001b[38;5;124mschema\u001b[39m\u001b[38;5;124m\"\u001b[39m] \u001b[38;5;241m=\u001b[39m get_schema\n\u001b[1;32m    211\u001b[0m jinja_template \u001b[38;5;241m=\u001b[39m env\u001b[38;5;241m.\u001b[39mfrom_string(cleaned_template)\n\u001b[0;32m--> 213\u001b[0m \u001b[38;5;28;01mreturn\u001b[39;00m \u001b[43mjinja_template\u001b[49m\u001b[38;5;241;43m.\u001b[39;49m\u001b[43mrender\u001b[49m\u001b[43m(\u001b[49m\u001b[38;5;241;43m*\u001b[39;49m\u001b[38;5;241;43m*\u001b[39;49m\u001b[43mvalues\u001b[49m\u001b[43m)\u001b[49m\n",
      "File \u001b[0;32m~/miniconda3/envs/vgen/lib/python3.10/site-packages/jinja2/environment.py:1301\u001b[0m, in \u001b[0;36mTemplate.render\u001b[0;34m(self, *args, **kwargs)\u001b[0m\n\u001b[1;32m   1299\u001b[0m     \u001b[38;5;28;01mreturn\u001b[39;00m \u001b[38;5;28mself\u001b[39m\u001b[38;5;241m.\u001b[39menvironment\u001b[38;5;241m.\u001b[39mconcat(\u001b[38;5;28mself\u001b[39m\u001b[38;5;241m.\u001b[39mroot_render_func(ctx))  \u001b[38;5;66;03m# type: ignore\u001b[39;00m\n\u001b[1;32m   1300\u001b[0m \u001b[38;5;28;01mexcept\u001b[39;00m \u001b[38;5;167;01mException\u001b[39;00m:\n\u001b[0;32m-> 1301\u001b[0m     \u001b[38;5;28;43mself\u001b[39;49m\u001b[38;5;241;43m.\u001b[39;49m\u001b[43menvironment\u001b[49m\u001b[38;5;241;43m.\u001b[39;49m\u001b[43mhandle_exception\u001b[49m\u001b[43m(\u001b[49m\u001b[43m)\u001b[49m\n",
      "File \u001b[0;32m~/miniconda3/envs/vgen/lib/python3.10/site-packages/jinja2/environment.py:936\u001b[0m, in \u001b[0;36mEnvironment.handle_exception\u001b[0;34m(self, source)\u001b[0m\n\u001b[1;32m    931\u001b[0m \u001b[38;5;250m\u001b[39m\u001b[38;5;124;03m\"\"\"Exception handling helper.  This is used internally to either raise\u001b[39;00m\n\u001b[1;32m    932\u001b[0m \u001b[38;5;124;03mrewritten exceptions or return a rendered traceback for the template.\u001b[39;00m\n\u001b[1;32m    933\u001b[0m \u001b[38;5;124;03m\"\"\"\u001b[39;00m\n\u001b[1;32m    934\u001b[0m \u001b[38;5;28;01mfrom\u001b[39;00m \u001b[38;5;21;01m.\u001b[39;00m\u001b[38;5;21;01mdebug\u001b[39;00m \u001b[38;5;28;01mimport\u001b[39;00m rewrite_traceback_stack\n\u001b[0;32m--> 936\u001b[0m \u001b[38;5;28;01mraise\u001b[39;00m rewrite_traceback_stack(source\u001b[38;5;241m=\u001b[39msource)\n",
      "File \u001b[0;32m<template>:6\u001b[0m, in \u001b[0;36mtop-level template code\u001b[0;34m()\u001b[0m\n",
      "\u001b[0;31mUndefinedError\u001b[0m: 'dict object' has no attribute 'description'"
     ]
    }
   ],
   "source": [
    "get_prompts_with_ids()"
   ]
  },
  {
   "cell_type": "code",
   "execution_count": null,
   "metadata": {},
   "outputs": [],
   "source": []
  }
 ],
 "metadata": {
  "kernelspec": {
   "display_name": "vgen",
   "language": "python",
   "name": "python3"
  },
  "language_info": {
   "codemirror_mode": {
    "name": "ipython",
    "version": 3
   },
   "file_extension": ".py",
   "mimetype": "text/x-python",
   "name": "python",
   "nbconvert_exporter": "python",
   "pygments_lexer": "ipython3",
   "version": "3.10.13"
  }
 },
 "nbformat": 4,
 "nbformat_minor": 2
}
